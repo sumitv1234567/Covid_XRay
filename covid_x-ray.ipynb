{
 "cells": [
  {
   "cell_type": "markdown",
   "metadata": {
    "colab_type": "text",
    "id": "3DR-eO17geWu"
   },
   "source": [
    "# Convolutional Neural Network"
   ]
  },
  {
   "cell_type": "markdown",
   "metadata": {
    "colab_type": "text",
    "id": "EMefrVPCg-60"
   },
   "source": [
    "### Importing the libraries"
   ]
  },
  {
   "cell_type": "code",
   "execution_count": 1,
   "metadata": {
    "colab": {},
    "colab_type": "code",
    "id": "sCV30xyVhFbE"
   },
   "outputs": [],
   "source": [
    "import tensorflow as tf\n",
    "from keras.preprocessing.image import ImageDataGenerator\n",
    "from keras.callbacks import EarlyStopping"
   ]
  },
  {
   "cell_type": "code",
   "execution_count": 2,
   "metadata": {
    "colab": {},
    "colab_type": "code",
    "id": "FIleuCAjoFD8"
   },
   "outputs": [
    {
     "data": {
      "text/plain": [
       "'2.4.1'"
      ]
     },
     "execution_count": 2,
     "metadata": {},
     "output_type": "execute_result"
    }
   ],
   "source": [
    "tf.__version__"
   ]
  },
  {
   "cell_type": "markdown",
   "metadata": {
    "colab_type": "text",
    "id": "oxQxCBWyoGPE"
   },
   "source": [
    "## Part 1 - Data Preprocessing"
   ]
  },
  {
   "cell_type": "markdown",
   "metadata": {
    "colab_type": "text",
    "id": "MvE-heJNo3GG"
   },
   "source": [
    "### Preprocessing the Training set"
   ]
  },
  {
   "cell_type": "code",
   "execution_count": 3,
   "metadata": {
    "colab": {},
    "colab_type": "code",
    "id": "0koUcJMJpEBD"
   },
   "outputs": [
    {
     "name": "stdout",
     "output_type": "stream",
     "text": [
      "Found 148 images belonging to 2 classes.\n"
     ]
    }
   ],
   "source": [
    "train_datagen = ImageDataGenerator(rescale = 1./255,\n",
    "                                   shear_range = 0.2,\n",
    "                                   zoom_range = 0.2,\n",
    "                                   horizontal_flip = True)\n",
    "training_set = train_datagen.flow_from_directory('xray_dataset_covid19/train',\n",
    "                                                 target_size = (64, 64),\n",
    "                                                 batch_size = 32,\n",
    "                                                 class_mode = 'binary')"
   ]
  },
  {
   "cell_type": "markdown",
   "metadata": {
    "colab_type": "text",
    "id": "mrCMmGw9pHys"
   },
   "source": [
    "### Preprocessing the Test set"
   ]
  },
  {
   "cell_type": "code",
   "execution_count": 4,
   "metadata": {
    "colab": {},
    "colab_type": "code",
    "id": "SH4WzfOhpKc3"
   },
   "outputs": [
    {
     "name": "stdout",
     "output_type": "stream",
     "text": [
      "Found 40 images belonging to 2 classes.\n"
     ]
    }
   ],
   "source": [
    "test_datagen = ImageDataGenerator(rescale = 1./255)\n",
    "test_set = test_datagen.flow_from_directory('xray_dataset_covid19/test',\n",
    "                                            target_size = (64, 64),\n",
    "                                            batch_size = 32,\n",
    "                                            class_mode = 'binary')"
   ]
  },
  {
   "cell_type": "markdown",
   "metadata": {
    "colab_type": "text",
    "id": "af8O4l90gk7B"
   },
   "source": [
    "## Part 2 - Building the CNN"
   ]
  },
  {
   "cell_type": "markdown",
   "metadata": {
    "colab_type": "text",
    "id": "ces1gXY2lmoX"
   },
   "source": [
    "### Initialising the CNN"
   ]
  },
  {
   "cell_type": "code",
   "execution_count": 5,
   "metadata": {
    "colab": {},
    "colab_type": "code",
    "id": "SAUt4UMPlhLS"
   },
   "outputs": [],
   "source": [
    "cnn = tf.keras.models.Sequential()"
   ]
  },
  {
   "cell_type": "markdown",
   "metadata": {
    "colab_type": "text",
    "id": "u5YJj_XMl5LF"
   },
   "source": [
    "### Step 1 - Convolution"
   ]
  },
  {
   "cell_type": "code",
   "execution_count": 6,
   "metadata": {
    "colab": {},
    "colab_type": "code",
    "id": "XPzPrMckl-hV"
   },
   "outputs": [],
   "source": [
    "cnn.add(tf.keras.layers.Conv2D(filters=32, kernel_size=3, activation='relu', input_shape=[64, 64, 3]))"
   ]
  },
  {
   "cell_type": "markdown",
   "metadata": {
    "colab_type": "text",
    "id": "tf87FpvxmNOJ"
   },
   "source": [
    "### Step 2 - Pooling"
   ]
  },
  {
   "cell_type": "code",
   "execution_count": 7,
   "metadata": {
    "colab": {},
    "colab_type": "code",
    "id": "ncpqPl69mOac"
   },
   "outputs": [],
   "source": [
    "cnn.add(tf.keras.layers.MaxPool2D(pool_size=2, strides=2))"
   ]
  },
  {
   "cell_type": "markdown",
   "metadata": {
    "colab_type": "text",
    "id": "xaTOgD8rm4mU"
   },
   "source": [
    "### Adding a second convolutional layer"
   ]
  },
  {
   "cell_type": "code",
   "execution_count": 8,
   "metadata": {
    "colab": {},
    "colab_type": "code",
    "id": "i_-FZjn_m8gk"
   },
   "outputs": [],
   "source": [
    "cnn.add(tf.keras.layers.Conv2D(filters=32, kernel_size=3, activation='relu'))\n",
    "cnn.add(tf.keras.layers.MaxPool2D(pool_size=2, strides=2))"
   ]
  },
  {
   "cell_type": "markdown",
   "metadata": {
    "colab_type": "text",
    "id": "tmiEuvTunKfk"
   },
   "source": [
    "### Step 3 - Flattening"
   ]
  },
  {
   "cell_type": "code",
   "execution_count": 9,
   "metadata": {
    "colab": {},
    "colab_type": "code",
    "id": "6AZeOGCvnNZn"
   },
   "outputs": [],
   "source": [
    "cnn.add(tf.keras.layers.Flatten())"
   ]
  },
  {
   "cell_type": "markdown",
   "metadata": {
    "colab_type": "text",
    "id": "dAoSECOm203v"
   },
   "source": [
    "### Step 4 - Full Connection"
   ]
  },
  {
   "cell_type": "code",
   "execution_count": 10,
   "metadata": {
    "colab": {},
    "colab_type": "code",
    "id": "8GtmUlLd26Nq"
   },
   "outputs": [],
   "source": [
    "cnn.add(tf.keras.layers.Dense(units=128, activation='relu'))"
   ]
  },
  {
   "cell_type": "markdown",
   "metadata": {
    "colab_type": "text",
    "id": "yTldFvbX28Na"
   },
   "source": [
    "### Step 5 - Output Layer"
   ]
  },
  {
   "cell_type": "code",
   "execution_count": 11,
   "metadata": {
    "colab": {},
    "colab_type": "code",
    "id": "1p_Zj1Mc3Ko_"
   },
   "outputs": [],
   "source": [
    "cnn.add(tf.keras.layers.Dense(units=1, activation='sigmoid'))"
   ]
  },
  {
   "cell_type": "markdown",
   "metadata": {
    "colab_type": "text",
    "id": "D6XkI90snSDl"
   },
   "source": [
    "## Part 3 - Training the CNN"
   ]
  },
  {
   "cell_type": "markdown",
   "metadata": {
    "colab_type": "text",
    "id": "vfrFQACEnc6i"
   },
   "source": [
    "### Compiling the CNN"
   ]
  },
  {
   "cell_type": "code",
   "execution_count": 12,
   "metadata": {
    "colab": {},
    "colab_type": "code",
    "id": "NALksrNQpUlJ"
   },
   "outputs": [],
   "source": [
    "cnn.compile(optimizer = 'adam', loss = 'binary_crossentropy', metrics = ['accuracy'])"
   ]
  },
  {
   "cell_type": "markdown",
   "metadata": {},
   "source": [
    "# Early Stopping"
   ]
  },
  {
   "cell_type": "code",
   "execution_count": 13,
   "metadata": {},
   "outputs": [],
   "source": [
    "earlystopping = EarlyStopping(patience=4, monitor='accuracy')"
   ]
  },
  {
   "cell_type": "markdown",
   "metadata": {
    "colab_type": "text",
    "id": "ehS-v3MIpX2h"
   },
   "source": [
    "### Training the CNN on the Training set and evaluating it on the Test set"
   ]
  },
  {
   "cell_type": "code",
   "execution_count": 14,
   "metadata": {
    "colab": {},
    "colab_type": "code",
    "id": "XUj1W4PJptta"
   },
   "outputs": [
    {
     "name": "stdout",
     "output_type": "stream",
     "text": [
      "Epoch 1/100\n",
      "5/5 [==============================] - 12s 2s/step - loss: 0.7795 - accuracy: 0.5194 - val_loss: 0.6996 - val_accuracy: 0.5000\n",
      "Epoch 2/100\n",
      "5/5 [==============================] - 9s 2s/step - loss: 0.7065 - accuracy: 0.5007 - val_loss: 0.6665 - val_accuracy: 0.5000\n",
      "Epoch 3/100\n",
      "5/5 [==============================] - 8s 2s/step - loss: 0.6819 - accuracy: 0.5198 - val_loss: 0.6532 - val_accuracy: 0.5000\n",
      "Epoch 4/100\n",
      "5/5 [==============================] - 10s 2s/step - loss: 0.6805 - accuracy: 0.5628 - val_loss: 0.6216 - val_accuracy: 0.9500\n",
      "Epoch 5/100\n",
      "5/5 [==============================] - 8s 2s/step - loss: 0.6543 - accuracy: 0.7281 - val_loss: 0.5532 - val_accuracy: 0.9750\n",
      "Epoch 6/100\n",
      "5/5 [==============================] - 9s 2s/step - loss: 0.6060 - accuracy: 0.6556 - val_loss: 0.4547 - val_accuracy: 0.9750\n",
      "Epoch 7/100\n",
      "5/5 [==============================] - 9s 2s/step - loss: 0.5404 - accuracy: 0.7693 - val_loss: 0.3375 - val_accuracy: 0.9750\n",
      "Epoch 8/100\n",
      "5/5 [==============================] - 9s 2s/step - loss: 0.4751 - accuracy: 0.8499 - val_loss: 0.2302 - val_accuracy: 0.9750\n",
      "Epoch 9/100\n",
      "5/5 [==============================] - 9s 2s/step - loss: 0.4591 - accuracy: 0.7646 - val_loss: 0.1859 - val_accuracy: 0.9750\n",
      "Epoch 10/100\n",
      "5/5 [==============================] - 10s 2s/step - loss: 0.3884 - accuracy: 0.8811 - val_loss: 0.1344 - val_accuracy: 0.9750\n",
      "Epoch 11/100\n",
      "5/5 [==============================] - 10s 2s/step - loss: 0.3716 - accuracy: 0.8115 - val_loss: 0.1110 - val_accuracy: 0.9750\n",
      "Epoch 12/100\n",
      "5/5 [==============================] - 8s 2s/step - loss: 0.2510 - accuracy: 0.8917 - val_loss: 0.1461 - val_accuracy: 0.9500\n",
      "Epoch 13/100\n",
      "5/5 [==============================] - 10s 2s/step - loss: 0.2804 - accuracy: 0.8883 - val_loss: 0.1011 - val_accuracy: 0.9750\n",
      "Epoch 14/100\n",
      "5/5 [==============================] - 10s 2s/step - loss: 0.2508 - accuracy: 0.8730 - val_loss: 0.1173 - val_accuracy: 0.9500\n",
      "Epoch 15/100\n",
      "5/5 [==============================] - 8s 2s/step - loss: 0.2550 - accuracy: 0.8775 - val_loss: 0.0872 - val_accuracy: 0.9750\n",
      "Epoch 16/100\n",
      "5/5 [==============================] - 10s 2s/step - loss: 0.2551 - accuracy: 0.9130 - val_loss: 0.0984 - val_accuracy: 0.9500\n",
      "Epoch 17/100\n",
      "5/5 [==============================] - 10s 2s/step - loss: 0.1705 - accuracy: 0.9046 - val_loss: 0.1330 - val_accuracy: 0.9250\n",
      "Epoch 18/100\n",
      "5/5 [==============================] - 9s 2s/step - loss: 0.2601 - accuracy: 0.9242 - val_loss: 0.1018 - val_accuracy: 0.9750\n",
      "Epoch 19/100\n",
      "5/5 [==============================] - 8s 2s/step - loss: 0.1773 - accuracy: 0.9342 - val_loss: 0.1184 - val_accuracy: 0.9500\n",
      "Epoch 20/100\n",
      "5/5 [==============================] - 10s 2s/step - loss: 0.1157 - accuracy: 0.9859 - val_loss: 0.0792 - val_accuracy: 1.0000\n",
      "Epoch 21/100\n",
      "5/5 [==============================] - 10s 2s/step - loss: 0.1435 - accuracy: 0.9415 - val_loss: 0.0749 - val_accuracy: 1.0000\n",
      "Epoch 22/100\n",
      "5/5 [==============================] - 10s 2s/step - loss: 0.1637 - accuracy: 0.9502 - val_loss: 0.1151 - val_accuracy: 0.9750\n",
      "Epoch 23/100\n",
      "5/5 [==============================] - 8s 2s/step - loss: 0.1765 - accuracy: 0.9353 - val_loss: 0.0770 - val_accuracy: 0.9750\n",
      "Epoch 24/100\n",
      "5/5 [==============================] - 10s 2s/step - loss: 0.1139 - accuracy: 0.9667 - val_loss: 0.1273 - val_accuracy: 0.9500\n"
     ]
    },
    {
     "data": {
      "text/plain": [
       "<tensorflow.python.keras.callbacks.History at 0x24eaa4fa610>"
      ]
     },
     "execution_count": 14,
     "metadata": {},
     "output_type": "execute_result"
    }
   ],
   "source": [
    "cnn.fit(x = training_set, validation_data = test_set, epochs = 100, callbacks=[earlystopping])"
   ]
  },
  {
   "cell_type": "code",
   "execution_count": 33,
   "metadata": {},
   "outputs": [],
   "source": [
    "cnn.save_weights('weights/weights')"
   ]
  },
  {
   "cell_type": "code",
   "execution_count": 34,
   "metadata": {},
   "outputs": [],
   "source": [
    "cnn.save('model.h5')"
   ]
  },
  {
   "cell_type": "markdown",
   "metadata": {},
   "source": [
    "# Applying model on self downloaded "
   ]
  },
  {
   "cell_type": "code",
   "execution_count": 36,
   "metadata": {},
   "outputs": [
    {
     "name": "stdout",
     "output_type": "stream",
     "text": [
      "{'NORMAL': 0, 'PNEUMONIA': 1}\n"
     ]
    }
   ],
   "source": [
    "import numpy as np\n",
    "from keras.preprocessing import image\n",
    "test_image = image.load_img('C:/Users/Verma/Documents/ml/Projects/Covid_X-Ray/xray_dataset_covid19/predicting_cases/negative1.jfif', target_size = (64, 64))\n",
    "test_image = image.img_to_array(test_image)\n",
    "test_image = np.expand_dims(test_image, axis = 0)\n",
    "result =cnn.predict(test_image)\n",
    "print(training_set.class_indices)\n",
    "if result[0][0] == 1:\n",
    "  prediction = 'At Risk of Covid'\n",
    "else:\n",
    "  prediction = 'No Risk'"
   ]
  },
  {
   "cell_type": "code",
   "execution_count": 37,
   "metadata": {},
   "outputs": [
    {
     "name": "stdout",
     "output_type": "stream",
     "text": [
      "No Risk\n"
     ]
    }
   ],
   "source": [
    "print(prediction)"
   ]
  },
  {
   "cell_type": "code",
   "execution_count": null,
   "metadata": {},
   "outputs": [],
   "source": []
  }
 ],
 "metadata": {
  "colab": {
   "collapsed_sections": [],
   "name": "convolutional_neural_network.ipynb",
   "provenance": [],
   "toc_visible": true
  },
  "kernelspec": {
   "display_name": "Python 3",
   "language": "python",
   "name": "python3"
  },
  "language_info": {
   "codemirror_mode": {
    "name": "ipython",
    "version": 3
   },
   "file_extension": ".py",
   "mimetype": "text/x-python",
   "name": "python",
   "nbconvert_exporter": "python",
   "pygments_lexer": "ipython3",
   "version": "3.8.5"
  }
 },
 "nbformat": 4,
 "nbformat_minor": 1
}
